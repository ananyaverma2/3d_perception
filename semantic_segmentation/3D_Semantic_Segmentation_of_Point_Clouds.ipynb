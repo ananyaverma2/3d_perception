{
 "cells": [
  {
   "cell_type": "markdown",
   "id": "8c9eb31d",
   "metadata": {
    "toc": true
   },
   "source": [
    "<h1>Table of Contents<span class=\"tocSkip\"></span></h1>\n",
    "<div class=\"toc\"><ul class=\"toc-item\"><li><span><a href=\"#Introduction\" data-toc-modified-id=\"Introduction-1\"><span class=\"toc-item-num\">1&nbsp;&nbsp;</span>Introduction</a></span></li><li><span><a href=\"#State-of-the-art\" data-toc-modified-id=\"State-of-the-art-2\"><span class=\"toc-item-num\">2&nbsp;&nbsp;</span>State of the art</a></span></li></ul></div>"
   ]
  },
  {
   "cell_type": "markdown",
   "id": "c8e097a9",
   "metadata": {},
   "source": [
    "# Introduction\n",
    "\n",
    "Point clouds are the simplest representation of an object. It can be generated using:\n",
    " * LIDAR\n",
    " * Infrared\n",
    " * Stereo\n",
    " \n",
    "Many challenges like: resolution, occlusion and noise\n",
    "\n",
    "Unlike the images, pointcloud is an unordered set of points and convolution cannot be applied\n",
    "\n",
    "# State of the art\n",
    "\n",
    "Recently, a lot of effort has been put into bridging the success from 2D scene\n",
    "understanding into the 3D world. \n",
    "\n",
    "* **Voxelized Methods:** The straightforward approach of applying CNNs in the 3D space is implemented by preprocessing the point cloud into a voxel representation first in order to apply 3D convolutions on that new representation. However 3D convolutions have drawbacks. Memory and computational time grows cubicly on the number of voxels, restricting approaches to use coarse voxels grids. However, by doing so, one then introduces discretization artifacts (especially for thin structures) and loose geometric information such as point density. \n",
    "\n",
    "* **Point Cloud Methods:** Methods directly operating on the point cloud representation produce promising results. Point cloud methods are a class of approaches that directly process unstructured 3D point clouds, rather than voxelizing or projecting them onto a regular grid. One of the most influential methods in this group is PointNet, which introduced the idea of extracting point features using a sequence of MLPs processing the points individually, followed by a max-pooling operation that describes the points globally. \n",
    "\n",
    "    Subsequent methods have built on this approach by partitioning the point cloud space in more meaningful ways, such as using octrees or kd-trees. Others have incorporated local geometry and surface information into the feature extraction process through clustering, hierarchical grouping of points, or graph neural networks.\n",
    "\n",
    "    The advantage of point cloud methods is that they can preserve the original spatial structure of the data without the need for voxelization or projection. This allows for more accurate representation of the underlying geometry and better preservation of fine-grained details. However, point cloud methods can be more computationally expensive due to the lack of structure and the need for additional processing steps to group nearby points and extract features."
   ]
  },
  {
   "cell_type": "code",
   "execution_count": null,
   "id": "7f45d2ee",
   "metadata": {},
   "outputs": [],
   "source": []
  }
 ],
 "metadata": {
  "kernelspec": {
   "display_name": "Python 3 (ipykernel)",
   "language": "python",
   "name": "python3"
  },
  "language_info": {
   "codemirror_mode": {
    "name": "ipython",
    "version": 3
   },
   "file_extension": ".py",
   "mimetype": "text/x-python",
   "name": "python",
   "nbconvert_exporter": "python",
   "pygments_lexer": "ipython3",
   "version": "3.10.8"
  },
  "toc": {
   "base_numbering": 1,
   "nav_menu": {},
   "number_sections": true,
   "sideBar": true,
   "skip_h1_title": false,
   "title_cell": "Table of Contents",
   "title_sidebar": "Contents",
   "toc_cell": true,
   "toc_position": {},
   "toc_section_display": true,
   "toc_window_display": false
  }
 },
 "nbformat": 4,
 "nbformat_minor": 5
}
